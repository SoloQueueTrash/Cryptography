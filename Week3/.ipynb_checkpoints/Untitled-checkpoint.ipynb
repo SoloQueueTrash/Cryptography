{
 "cells": [
  {
   "cell_type": "code",
   "execution_count": 4,
   "id": "f7d3e40e",
   "metadata": {},
   "outputs": [
    {
     "name": "stdout",
     "output_type": "stream",
     "text": [
      "b'4af788e3e448425efac93fdb06ee3078'\n"
     ]
    },
    {
     "data": {
      "text/plain": [
       "16"
      ]
     },
     "execution_count": 4,
     "metadata": {},
     "output_type": "execute_result"
    }
   ],
   "source": [
    "#Exercício 1\n",
    "\n",
    "from os import urandom \n",
    "from binascii import hexlify \n",
    "from cryptography.hazmat.primitives.ciphers import Cipher, algorithms, modes\n",
    "from cryptography.hazmat.primitives import padding\n",
    "\n",
    "key = urandom(16) \n",
    "iv = urandom(16) \n",
    "\n",
    "f = open(\"plaintext.txt\", \"r\")\n",
    "plaintext = f.read()\n",
    "\n",
    "padder = padding.PKCS7(128).padder()\n",
    "padded_data = padder.update(bytes(plaintext, encoding='utf-8')) + padder.finalize()\n",
    "\n",
    "cipher = Cipher(algorithms.AES(key), modes.CBC(iv)) \n",
    "encryptor = cipher.encryptor() # What happens if you don't pass 16−byte input? \n",
    "ct = encryptor.update(padded_data) + encryptor.finalize() \n",
    "\n",
    "print(hexlify(key))\n",
    "print(hexlify(iv))\n",
    "\n",
    "cphFile = open(\"ciphertext_encrypted.txt\", \"wb\") \n",
    "cphFile.write(ct)\n",
    "\n",
    "#openssl aes-128-cbc -d -K <hexadecimal_key> -iv <hexadecimal_iv> -in ciphertext.txt -out ciphertext_decrypt.txt\n",
    "\n"
   ]
  },
  {
   "cell_type": "code",
   "execution_count": null,
   "id": "2162e0ae",
   "metadata": {},
   "outputs": [],
   "source": []
  }
 ],
 "metadata": {
  "kernelspec": {
   "display_name": "SageMath 9.5",
   "language": "sage",
   "name": "sagemath"
  },
  "language_info": {
   "codemirror_mode": {
    "name": "ipython",
    "version": 3
   },
   "file_extension": ".py",
   "mimetype": "text/x-python",
   "name": "python",
   "nbconvert_exporter": "python",
   "pygments_lexer": "ipython3",
   "version": "3.10.6"
  }
 },
 "nbformat": 4,
 "nbformat_minor": 5
}
