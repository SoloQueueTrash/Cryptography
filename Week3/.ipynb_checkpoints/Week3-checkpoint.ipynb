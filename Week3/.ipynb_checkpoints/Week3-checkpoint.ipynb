{
 "cells": [
  {
   "cell_type": "code",
   "execution_count": 1,
   "id": "f7d3e40e",
   "metadata": {},
   "outputs": [
    {
     "name": "stdout",
     "output_type": "stream",
     "text": [
      "b'ca4c858b967f711c30094bff3a50de2d'\n",
      "b'8627304621b8e9bc8b2209146e506793'\n"
     ]
    },
    {
     "data": {
      "text/plain": [
       "48"
      ]
     },
     "execution_count": 1,
     "metadata": {},
     "output_type": "execute_result"
    }
   ],
   "source": [
    "#Exercício 1\n",
    "# Cipher Block Chaining mode\n",
    "\n",
    "from os import urandom \n",
    "from binascii import hexlify \n",
    "from cryptography.hazmat.primitives.ciphers import Cipher, algorithms, modes\n",
    "from cryptography.hazmat.primitives import padding\n",
    "\n",
    "key = urandom(16) \n",
    "iv = urandom(16) \n",
    "\n",
    "f = open(\"plaintext.txt\", \"r\")\n",
    "plaintext = f.read()\n",
    "\n",
    "padder = padding.PKCS7(128).padder()\n",
    "padded_data = padder.update(bytes(plaintext, encoding='utf-8')) + padder.finalize()\n",
    "\n",
    "cipher = Cipher(algorithms.AES(key), modes.CBC(iv)) \n",
    "encryptor = cipher.encryptor() # What happens if you don't pass 16−byte input? \n",
    "ct = encryptor.update(padded_data) + encryptor.finalize() \n",
    "\n",
    "print(hexlify(key))\n",
    "print(hexlify(iv))\n",
    "\n",
    "cphFile = open(\"ciphertext_encrypted_CBC.txt\", \"wb\") \n",
    "cphFile.write(ct)"
   ]
  },
  {
   "cell_type": "code",
   "execution_count": 1,
   "id": "2162e0ae",
   "metadata": {},
   "outputs": [],
   "source": [
    "#Exercício 2\n",
    "openssl aes-128-cbc -d -K <hexadecimal_key> -iv <hexadecimal_iv> -in ciphertext_encrypted_CBC.txt -out ciphertext_decrypted_CBC.txt"
   ]
  },
  {
   "cell_type": "code",
   "execution_count": null,
   "id": "698cb56f",
   "metadata": {},
   "outputs": [],
   "source": [
    "#Exercício 3"
   ]
  },
  {
   "cell_type": "code",
   "execution_count": 2,
   "id": "8836fa9b",
   "metadata": {},
   "outputs": [
    {
     "name": "stdout",
     "output_type": "stream",
     "text": [
      "b'e67eeb38144b7991e7c62509ddabc403'\n",
      "b'f98b12d9ac2bcf1729707493625ce1bb'\n"
     ]
    },
    {
     "data": {
      "text/plain": [
       "48"
      ]
     },
     "execution_count": 2,
     "metadata": {},
     "output_type": "execute_result"
    }
   ],
   "source": [
    "#Exercício 4\n",
    "# Counter mode\n",
    "\n",
    "from os import urandom \n",
    "from binascii import hexlify \n",
    "from cryptography.hazmat.primitives.ciphers import Cipher, algorithms, modes\n",
    "from cryptography.hazmat.primitives import padding\n",
    "\n",
    "key = urandom(16) \n",
    "counter = urandom(16) \n",
    "\n",
    "f = open(\"plaintext.txt\", \"r\")\n",
    "plaintext = f.read()\n",
    "\n",
    "padder = padding.PKCS7(128).padder()\n",
    "padded_data = padder.update(bytes(plaintext, encoding='utf-8')) + padder.finalize()\n",
    "\n",
    "cipher = Cipher(algorithms.AES(key), modes.CTR(counter)) \n",
    "encryptor = cipher.encryptor() # What happens if you don't pass 16−byte input? \n",
    "ct = encryptor.update(padded_data) + encryptor.finalize() \n",
    "\n",
    "print(hexlify(key))\n",
    "print(hexlify(counter))\n",
    "\n",
    "cphFile = open(\"ciphertext_encrypted_CTR.txt\", \"wb\") \n",
    "cphFile.write(ct)\n",
    "\n",
    "# Para decifrar openssl aes-128-ctr -d -K <hexadecimal_key> -iv <hexadecimal_counter> -in ciphertext_encrypted_CTR.txt -out ciphertext_decrypted_CTR.txt"
   ]
  },
  {
   "cell_type": "code",
   "execution_count": null,
   "id": "f2f2f190",
   "metadata": {},
   "outputs": [],
   "source": []
  }
 ],
 "metadata": {
  "kernelspec": {
   "display_name": "SageMath 9.5",
   "language": "sage",
   "name": "sagemath"
  },
  "language_info": {
   "codemirror_mode": {
    "name": "ipython",
    "version": 3
   },
   "file_extension": ".py",
   "mimetype": "text/x-python",
   "name": "python",
   "nbconvert_exporter": "python",
   "pygments_lexer": "ipython3",
   "version": "3.10.6"
  }
 },
 "nbformat": 4,
 "nbformat_minor": 5
}
