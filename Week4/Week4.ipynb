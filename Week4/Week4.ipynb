{
 "cells": [
  {
   "cell_type": "code",
   "execution_count": 3,
   "id": "d38621e6",
   "metadata": {},
   "outputs": [
    {
     "name": "stdout",
     "output_type": "stream",
     "text": [
      "Univariate Polynomial Ring in X over Finite Field of size 1361129467683753853853498429727072845819 (using NTL)\n"
     ]
    }
   ],
   "source": [
    "#Exercicio 1\n",
    "\n",
    "F = FiniteField(2**130-5)\n",
    "PR.<X> = PolynomialRing(F)\n"
   ]
  },
  {
   "cell_type": "code",
   "execution_count": null,
   "id": "cb0dce8d",
   "metadata": {},
   "outputs": [],
   "source": [
    "#Exercicio 2\n",
    "# Código adaptado de https://nitratine.net/blog/post/python-gcm-encryption-tutorial/\n",
    "\n",
    "from Cryptodome.Cipher import AES\n",
    "from os import urandom\n",
    "\n",
    "BUFFER_SIZE = 1024 * 1024\n",
    "\n",
    "# Open files\n",
    "file_in = open(\"plaintext.txt\", 'rb') \n",
    "file_out = open(\"encrypted_aesgcm.txt\", 'wb')\n",
    "\n",
    "key = urandom(16)  \n",
    "key_file = open(\"key.txt\", \"wb\")\n",
    "key_file.write(key)\n",
    "\n",
    "cipher = AES.new(key, AES.MODE_GCM)\n",
    "\n",
    "iv_file = open(\"iv.txt\", \"wb\")\n",
    "iv_file.write(cipher.nonce)\n",
    "\n",
    "# Read, encrypt and write the data\n",
    "data = file_in.read(BUFFER_SIZE)  # Read in some of the file\n",
    "while len(data) != 0:\n",
    "    encrypted_data = cipher.encrypt(data)  # Encrypt the data we read\n",
    "    file_out.write(encrypted_data)  # Write the encrypted data to the output file\n",
    "    data = file_in.read(BUFFER_SIZE)  # Read some more of the file to see if there is any more left\n",
    "\n",
    "tag = cipher.digest()  \n",
    "\n",
    "tag_file = open(\"tag.txt\", \"wb\")\n",
    "tag_file.write(tag)\n",
    "\n",
    "file_in.close()\n",
    "tag_file.close()\n",
    "iv_file.close()\n",
    "key_file.close()\n",
    "file_out.close()\n",
    "\n",
    "#comando a usar para decifrar o texto encriptado pela ferramenta no repositorio https://github.com/jforissier/aesgcm é\n",
    "# ./aesgcm dec -key key.txt -iv iv.txt -in encrypted_aesgcm.txt -tag tag.txt -out decrypted_aesgcm.txt\n",
    "\n",
    "#Aes gcm (Galois Counter Mode) baseia-se no aes Counter Mode com a adição de um parametro de autenticação que torna a encriptação\n",
    "# e decriptação em etapas autenticadas. A chave de aes gcm é gerada a partir do nonce e da palavra chave escolhida pelo\n",
    "# utilizador. No caso do aes ctr a chave era generada de forma aleatória."
   ]
  },
  {
   "cell_type": "code",
   "execution_count": 1,
   "id": "3ed87112",
   "metadata": {},
   "outputs": [],
   "source": [
    "#Exercicio 3\n",
    "\n",
    "#Começamos por encriptar o ficheiro plaintext.txt com o sha2 conjugando-o com uma chave de 16 bytes gerada \n",
    "#aleatoriamente e guardamos a cifra e a chave usada.\n",
    "\n",
    "import hmac\n",
    "import hashlib\n",
    "from binascii import hexlify \n",
    "from os import urandom\n",
    "\n",
    "key = urandom(16)\n",
    "file = open(\"plaintext.txt\", \"rb\")\n",
    "message = file.read()\n",
    "\n",
    "dig = hmac.new(key, msg=bytes(message), digestmod=hashlib.sha256).hexdigest()\n",
    "\n",
    "output = open(\"decrypt_sha2.txt\", \"w\")\n",
    "print(dig)\n",
    "output.write(dig)\n",
    "\n",
    "key_file = open(\"key_sha2.txt\", \"wb\")\n",
    "key_file.write(hexlify(key))\n",
    "\n",
    "file.close()\n",
    "output.close()\n",
    "key_file.close()"
   ]
  }
 ],
 "metadata": {
  "kernelspec": {
   "display_name": "SageMath 9.5",
   "language": "sage",
   "name": "sagemath"
  },
  "language_info": {
   "codemirror_mode": {
    "name": "ipython",
    "version": 3
   },
   "file_extension": ".py",
   "mimetype": "text/x-python",
   "name": "python",
   "nbconvert_exporter": "python",
   "pygments_lexer": "ipython3",
   "version": "3.10.6"
  }
 },
 "nbformat": 4,
 "nbformat_minor": 5
}
