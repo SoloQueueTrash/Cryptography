{
 "cells": [
  {
   "cell_type": "code",
   "execution_count": 53,
   "id": "1fc25dc2",
   "metadata": {},
   "outputs": [
    {
     "name": "stdout",
     "output_type": "stream",
     "text": [
      "7.9609375\n"
     ]
    }
   ],
   "source": [
    "# Exercicio 3.1.1\n",
    "\n",
    "import math\n",
    "\n",
    "p = 251\n",
    "c = pow(2,8) #bit strings de 8 bits\n",
    "probability = []\n",
    "floor = math.floor(c/p)\n",
    "\n",
    "for i in range(p):\n",
    "    probability.append(0)\n",
    "    \n",
    "for i in range(p): \n",
    "    probability[i] = floor/c\n",
    "\n",
    "if(c % p != 0):\n",
    "    for i in range(c % p):\n",
    "        probability[i] = (floor + 1)/c\n",
    "\n",
    "entropy = -(p - (c % p))*(probability[c % p])*math.log(probability[c % p],2) + (-(c % p)*(probability[(c % p) - 1]) * math.log(probability[(c % p) - 1],2))\n",
    "print(entropy)"
   ]
  },
  {
   "cell_type": "code",
   "execution_count": 54,
   "id": "55a06e0d",
   "metadata": {
    "scrolled": true
   },
   "outputs": [
    {
     "name": "stdout",
     "output_type": "stream",
     "text": [
      "7.971543553950772\n"
     ]
    }
   ],
   "source": [
    "# Exercicio 3.1.2\n",
    "\n",
    "import math\n",
    "\n",
    "p = 251\n",
    "c = pow(2,64) #bit strings de 64 bits\n",
    "floor = math.floor(c/p)\n",
    "probability = []\n",
    "\n",
    "for i in range(p):\n",
    "    probability.append(0)\n",
    "    \n",
    "for i in range(p): \n",
    "    probability[i] = floor/c\n",
    "\n",
    "if(c % p != 0):\n",
    "    for i in range(c % p):\n",
    "        probability[i] = (floor + 1)/c\n",
    "\n",
    "entropy = -(p - (c % p))*(probability[c % p])*math.log(probability[c % p],2) + (-(c % p)*(probability[(c % p) - 1]) * math.log(probability[(c % p) - 1],2))\n",
    "print(entropy)"
   ]
  },
  {
   "cell_type": "code",
   "execution_count": 55,
   "id": "86fbd5b6",
   "metadata": {},
   "outputs": [
    {
     "name": "stdout",
     "output_type": "stream",
     "text": [
      "8.0\n"
     ]
    }
   ],
   "source": [
    "# Exercicio 3.2.1\n",
    "\n",
    "import math\n",
    "\n",
    "p = 256\n",
    "c = pow(2,8) #bit strings de 8 bits\n",
    "probability = []\n",
    "floor = math.floor(c/p)\n",
    "\n",
    "for i in range(p):\n",
    "    probability.append(0)\n",
    "    \n",
    "for i in range(p): \n",
    "    probability[i] = floor/c\n",
    "\n",
    "if(c % p != 0):\n",
    "    for i in range(c % p):\n",
    "        probability[i] = (floor + 1)/c\n",
    "\n",
    "entropy = -(p - (c % p))*(probability[c % p])*math.log(probability[c % p],2) + (-(c % p)*(probability[(c % p) - 1]) * math.log(probability[(c % p) - 1],2))\n",
    "print(entropy)"
   ]
  },
  {
   "cell_type": "code",
   "execution_count": 56,
   "id": "437e206b",
   "metadata": {},
   "outputs": [
    {
     "name": "stdout",
     "output_type": "stream",
     "text": [
      "8.0\n"
     ]
    }
   ],
   "source": [
    "# Exercicio 3.2.2\n",
    "\n",
    "import math\n",
    "\n",
    "p = 256\n",
    "c = pow(2,64) #bit strings de 64 bits\n",
    "probability = []\n",
    "floor = math.floor(c/p)\n",
    "\n",
    "for i in range(p):\n",
    "    probability.append(0)\n",
    "    \n",
    "for i in range(p): \n",
    "    probability[i] = floor/c\n",
    "\n",
    "if(c % p != 0):\n",
    "    for i in range(c % p):\n",
    "        probability[i] = (floor + 1)/c\n",
    "        \n",
    "entropy = -(p - (c % p))*(probability[c % p])*math.log(probability[c % p],2) + (-(c % p)*(probability[(c % p) - 1]) * math.log(probability[(c % p) - 1],2))\n",
    "print(entropy)"
   ]
  },
  {
   "cell_type": "code",
   "execution_count": 57,
   "id": "5fd04289",
   "metadata": {
    "scrolled": true
   },
   "outputs": [
    {
     "name": "stdout",
     "output_type": "stream",
     "text": [
      "p:\n",
      "4\n",
      "string length:\n",
      "45\n",
      "2.0\n"
     ]
    }
   ],
   "source": [
    "# Exercicio 4\n",
    "\n",
    "import math\n",
    "\n",
    "p = int(input(\"p:\\n\"))\n",
    "k = int(input(\"c string length:\\n\"))\n",
    "c = pow(2,k) #bit strings de 64 bits\n",
    "probability = []\n",
    "floor = math.floor(c/p)\n",
    "\n",
    "for i in range(p):\n",
    "    probability.append(0)\n",
    "    \n",
    "for i in range(p): \n",
    "    probability[i] = floor/c\n",
    "\n",
    "if(c % p != 0):\n",
    "    for i in range(c % p):\n",
    "        probability[i] = (floor + 1)/c\n",
    "\n",
    "entropy = -(p - (c % p))*(probability[c % p])*math.log(probability[c % p],2) + (-(c % p)*(probability[(c % p) - 1]) * math.log(probability[(c % p) - 1],2))\n",
    "print(entropy)"
   ]
  },
  {
   "cell_type": "code",
   "execution_count": 3,
   "id": "4bf589f4",
   "metadata": {},
   "outputs": [],
   "source": [
    "# Exercício 5 $ hexdump -n 64 -e '1/4 \"%0X\" 1' /dev/urandom\n",
    "# Este comando mostra o conteudo de ficheiros em varios formatos como ascii, hexadecimal, ... Neste comando é usada \n",
    "# a flag -n para definir o tamanho em bytes que vai buscar ao input\n",
    "# a flag -e para definir o formato da string que vamos dar display\n",
    "#\n",
    "# usar dd: dd if=/dev/urandom of=rand.txt bs=1k count=2\n",
    "# vai buscar a /dev/urandom 2048 bytes\n",
    "# \n",
    "# usar openssl rand: openssl rand -out openssl_rand.txt -hex 20\n",
    "# gera 20 bytes\n",
    "#\n",
    "# Exercício 6 $ openssl genrsa -passout pass:foobar 2048\n",
    "# Ecercicio 7 $ openssl dhparam -out dhparams.pem 4096\n",
    "#\n",
    "# Em ambos os exercícios 7 e 8 quando estamos a aumentar o tamanho da chave estamos a aumentar o tempo de execução.\n",
    "# No caso do exercício 7 usando o comando $time para medirmos o tempo de execução, verificamos que \n",
    "# ao gerar uma chave de tamanho 4096 foram necessários 30 segundos enquanto que uma chave de tamanho 1024 foram\n",
    "# apenas necessários 0.173 segundos."
   ]
  },
  {
   "cell_type": "code",
   "execution_count": null,
   "id": "eb7deab3",
   "metadata": {},
   "outputs": [],
   "source": []
  }
 ],
 "metadata": {
  "kernelspec": {
   "display_name": "SageMath 9.5",
   "language": "sage",
   "name": "sagemath"
  },
  "language_info": {
   "codemirror_mode": {
    "name": "ipython",
    "version": 3
   },
   "file_extension": ".py",
   "mimetype": "text/x-python",
   "name": "python",
   "nbconvert_exporter": "python",
   "pygments_lexer": "ipython3",
   "version": "3.10.6"
  }
 },
 "nbformat": 4,
 "nbformat_minor": 5
}
