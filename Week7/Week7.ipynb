{
 "cells": [
  {
   "cell_type": "code",
   "execution_count": null,
   "id": "51ccca00",
   "metadata": {},
   "outputs": [],
   "source": [
    "# $openssl dhparam -out dhparam.pem 4096\n",
    "# $openssl dhparam -in dhparams.pem -text\n",
    "\n",
    "    DH Parameters: (4096 bit)\n",
    "    P:   \n",
    "        00:e1:db:e4:cb:c3:09:7d:fc:2a:70:dd:01:9d:5d:\n",
    "        a3:55:32:06:9e:03:6c:da:de:76:4e:34:19:6e:25:\n",
    "        52:70:c4:68:9b:fb:c7:cc:ab:6b:25:87:72:73:db:\n",
    "        78:6e:f5:d6:81:6e:a4:be:a9:40:2c:50:b1:d7:9c:\n",
    "        7b:80:72:a7:7d:1e:8a:c4:09:67:cb:70:36:8f:c0:\n",
    "        38:f4:09:39:1f:61:90:2f:e7:eb:b6:47:18:85:97:\n",
    "        4b:39:2d:3d:c7:df:ce:ad:82:a5:9f:a6:79:9d:9d:\n",
    "        01:80:c6:13:ad:10:e9:fe:84:48:82:eb:3b:49:39:\n",
    "        62:d8:22:5d:90:5c:f4:87:13:cb:b8:d3:89:ee:f0:\n",
    "        1b:34:52:7b:3a:b7:30:a5:7c:9b:92:8a:6e:bd:1f:\n",
    "        74:0c:39:68:48:dc:50:29:a3:b9:86:8d:36:70:c2:\n",
    "        a5:94:e4:85:3c:6a:2a:bd:cd:0c:db:e9:bc:fe:43:\n",
    "        cc:ae:cc:34:68:f1:56:b8:2e:8a:5d:14:61:ee:a8:\n",
    "        ee:dc:57:13:7d:93:30:2f:22:39:43:82:e2:9d:0e:\n",
    "        43:62:cb:1c:88:27:09:8e:0c:ab:e1:24:bb:3d:25:\n",
    "        12:d6:3b:88:5d:79:4c:29:2e:c7:20:d0:7c:dd:a4:\n",
    "        6a:fc:33:27:c1:84:e4:0d:88:8e:a5:5a:9f:50:4a:\n",
    "        ab:77:c2:d2:f9:58:d3:57:a6:8a:b6:94:c1:16:59:\n",
    "        e5:a2:87:87:ba:15:37:82:b9:ed:4e:ba:2d:82:4d:\n",
    "        eb:7f:29:5f:2b:6e:a5:58:04:63:98:ea:01:08:d8:\n",
    "        a2:80:d8:00:ed:98:2a:22:7c:17:b5:cd:2d:62:04:\n",
    "        1b:a7:58:f0:cc:02:d9:ee:c8:db:01:d7:0e:50:ad:\n",
    "        71:03:9e:cc:de:89:58:46:51:d7:44:1a:c6:66:c0:\n",
    "        20:5b:cd:a2:0b:33:96:6a:07:7f:f2:c4:6a:e8:e6:\n",
    "        c6:a3:48:1f:05:d6:10:55:07:1a:5a:13:af:c8:08:\n",
    "        9f:5e:7c:e1:0a:a6:08:a6:d2:da:40:4f:42:0b:b5:\n",
    "        9c:1b:63:f9:5d:2a:8b:62:a1:71:89:86:6d:c9:05:\n",
    "        14:52:56:e3:92:aa:f6:65:18:29:2e:93:52:57:26:\n",
    "        d7:3d:32:3c:fc:80:98:14:92:cd:1e:a3:6b:13:c9:\n",
    "        41:0b:d9:9c:f5:0e:07:3f:91:bc:0d:3f:e5:e8:57:\n",
    "        ef:e8:6f:ca:2c:f8:06:5d:59:31:a0:73:c0:26:fb:\n",
    "        ed:d4:af:b4:33:38:45:15:5f:15:59:9a:43:ef:00:\n",
    "        9f:1e:07:13:55:01:06:15:56:f8:75:3b:9d:f9:c4:\n",
    "        e2:46:27:6d:4e:ca:6f:bb:c4:c8:41:33:b1:a0:9a:\n",
    "        75:4c:af\n",
    "    G:    2 (0x2)\n",
    "-----BEGIN DH PARAMETERS-----\n",
    "MIICCAKCAgEA4dvky8MJffwqcN0BnV2jVTIGngNs2t52TjQZbiVScMRom/vHzKtr\n",
    "JYdyc9t4bvXWgW6kvqlALFCx15x7gHKnfR6KxAlny3A2j8A49Ak5H2GQL+frtkcY\n",
    "hZdLOS09x9/OrYKln6Z5nZ0BgMYTrRDp/oRIgus7STli2CJdkFz0hxPLuNOJ7vAb\n",
    "NFJ7OrcwpXybkopuvR90DDloSNxQKaO5ho02cMKllOSFPGoqvc0M2+m8/kPMrsw0\n",
    "aPFWuC6KXRRh7qju3FcTfZMwLyI5Q4LinQ5DYssciCcJjgyr4SS7PSUS1juIXXlM\n",
    "KS7HINB83aRq/DMnwYTkDYiOpVqfUEqrd8LS+VjTV6aKtpTBFlnlooeHuhU3grnt\n",
    "Trotgk3rfylfK26lWARjmOoBCNiigNgA7ZgqInwXtc0tYgQbp1jwzALZ7sjbAdcO\n",
    "UK1xA57M3olYRlHXRBrGZsAgW82iCzOWagd/8sRq6ObGo0gfBdYQVQcaWhOvyAif\n",
    "XnzhCqYIptLaQE9CC7WcG2P5XSqLYqFxiYZtyQUUUlbjkqr2ZRgpLpNSVybXPTI8\n",
    "/ICYFJLNHqNrE8lBC9mc9Q4HP5G8DT/l6Ffv6G/KLPgGXVkxoHPAJvvt1K+0MzhF\n",
    "FV8VWZpD7wCfHgcTVQEGFVb4dTud+cTiRidtTspvu8TIQTOxoJp1TK8CAQI=\n",
    "-----END DH PARAMETERS-----\n"
   ]
  },
  {
   "cell_type": "code",
   "execution_count": 12,
   "id": "d270835f",
   "metadata": {},
   "outputs": [
    {
     "name": "stdout",
     "output_type": "stream",
     "text": [
      "True\n",
      "True\n"
     ]
    }
   ],
   "source": [
    "# p obtido por dhparam SEM flag -dsaparam\n",
    "hexa = 0x00e1dbe4cbc3097dfc2a70dd019d5da35532069e036cdade764e34196e255270c4689bfbc7ccab6b25877273db786ef5d6816ea4bea9402c50b1d79c7b8072a77d1e8ac40967cb70368fc038f409391f61902fe7ebb6471885974b392d3dc7dfcead82a59fa6799d9d0180c613ad10e9fe844882eb3b493962d8225d905cf48713cbb8d389eef01b34527b3ab730a57c9b928a6ebd1f740c396848dc5029a3b9868d3670c2a594e4853c6a2abdcd0cdbe9bcfe43ccaecc3468f156b82e8a5d1461eea8eedc57137d93302f22394382e29d0e4362cb1c8827098e0cabe124bb3d2512d63b885d794c292ec720d07cdda46afc3327c184e40d888ea55a9f504aab77c2d2f958d357a68ab694c11659e5a28787ba153782b9ed4eba2d824deb7f295f2b6ea558046398ea0108d8a280d800ed982a227c17b5cd2d62041ba758f0cc02d9eec8db01d70e50ad71039eccde89584651d7441ac666c0205bcda20b33966a077ff2c46ae8e6c6a3481f05d61055071a5a13afc8089f5e7ce10aa608a6d2da404f420bb59c1b63f95d2a8b62a17189866dc905145256e392aaf66518292e93525726d73d323cfc80981492cd1ea36b13c9410bd99cf50e073f91bc0d3fe5e857efe86fca2cf8065d5931a073c026fbedd4afb4333845155f15599a43ef009f1e07135501061556f8753b9df9c4e246276d4eca6fbbc4c84133b1a09a754caf\n",
    "\n",
    "print(hexa.is_pseudoprime())\n",
    "hexa2 = ((hexa - 0x01) // 0x02)\n",
    "print(hexa2.is_pseudoprime())"
   ]
  },
  {
   "cell_type": "code",
   "execution_count": 13,
   "id": "6bad7a18",
   "metadata": {},
   "outputs": [
    {
     "name": "stdout",
     "output_type": "stream",
     "text": [
      "True\n",
      "False\n"
     ]
    }
   ],
   "source": [
    "# p obtido por dhparam COM flag -dsaparam\n",
    "\n",
    "hexa = 0x00a5e6dd45737b43dd7029298a99d323743a347f2dcba76ddf2abe96e44f3698bc406e919cdf06b244d656ecea964251bd7dd96e84efed5dd7d003fdbeb7be8ab940adff6c5a38c3af6020cdcc96d85d419e82aac15e78deeebe7fde1bcd79f3a4de36fe31fa1f10d808d39c9ddb1246c43796a57c10b7229c68b5607c5a3b25c9413161d1ead756bd28701fc76804461eeaced6090210459e254122ff3d9cedf610c3a24f135ede7934dc88578c6023c9a20962bd98b379910fc589281454f1fab97e97b483c581b4d749318c38d258005ea3610ddc304b9b4dd8bb213012988f472adf2f9ae924377d850685d890e327d705653464474dd39cdd293764a2e19869eeaa5347056115effcf3322b2f83dd8b4bd75ead89e231a7a7f79aacbb4933c887ff810338629931635d30d84da91ff6cfcd549a0b3de297464a0515184eaa124d9b667393c5bf04e748a8d93c14c5f7ac7f449403b5741c022b07121eb1c7a6a2014da3fdc94980cc93dd7e7f331f7623819c2207cd6c879bfd1d668a56dc2f3482c0407917b5633a04a2cb39a8a71d4dddd49521da5aefe35bf2628ae31a714feb51eabc9025d902886a82e4c03eab7e6b4fb3889ed5e9efb56f881ddb9fee5e28f040f58277dad72001619e6c42dd691e14c2e4faaa1318d6fb8eef1e81cd723df789c2c371719e3bdae9bfcd823e926d16d6164b0cef76b6ac76cc57e5\n",
    "\n",
    "print(hexa.is_pseudoprime())\n",
    "hexa2 = ((hexa - 0x01) // 0x02)\n",
    "print(hexa2.is_pseudoprime())"
   ]
  },
  {
   "cell_type": "code",
   "execution_count": null,
   "id": "5f116b3a",
   "metadata": {},
   "outputs": [],
   "source": []
  }
 ],
 "metadata": {
  "kernelspec": {
   "display_name": "SageMath 9.5",
   "language": "sage",
   "name": "sagemath"
  },
  "language_info": {
   "codemirror_mode": {
    "name": "ipython",
    "version": 3
   },
   "file_extension": ".py",
   "mimetype": "text/x-python",
   "name": "python",
   "nbconvert_exporter": "python",
   "pygments_lexer": "ipython3",
   "version": "3.10.6"
  }
 },
 "nbformat": 4,
 "nbformat_minor": 5
}
